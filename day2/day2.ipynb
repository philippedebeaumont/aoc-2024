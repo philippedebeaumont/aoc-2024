{
 "cells": [
  {
   "cell_type": "code",
   "execution_count": 100,
   "metadata": {},
   "outputs": [],
   "source": [
    "import pandas as pd\n",
    "import numpy as np\n",
    "\n",
    "all_list = [[x for x in list if not np.isnan(x)] for list in pd.read_csv(\"input/input.txt\", sep=r\"\\s+\", header=None).values.tolist()]"
   ]
  },
  {
   "cell_type": "markdown",
   "metadata": {},
   "source": [
    "## Part 1"
   ]
  },
  {
   "cell_type": "code",
   "execution_count": 101,
   "metadata": {},
   "outputs": [
    {
     "data": {
      "text/plain": [
       "369"
      ]
     },
     "execution_count": 101,
     "metadata": {},
     "output_type": "execute_result"
    }
   ],
   "source": [
    "sum(1 for lst in all_list if (sorted(lst) == lst or sorted(lst, reverse=True) == lst) and not any(abs(lst[i] - lst[i-1]) < 1 or abs(lst[i] - lst[i-1]) > 3 for i in range(1, len(lst))))\n"
   ]
  },
  {
   "cell_type": "markdown",
   "metadata": {},
   "source": [
    "## Part 2"
   ]
  },
  {
   "cell_type": "code",
   "execution_count": 103,
   "metadata": {},
   "outputs": [
    {
     "data": {
      "text/plain": [
       "428"
      ]
     },
     "execution_count": 103,
     "metadata": {},
     "output_type": "execute_result"
    }
   ],
   "source": [
    "sum(\n",
    "    1\n",
    "    for lst in all_list\n",
    "    if (\n",
    "        (sorted(lst) == lst or sorted(lst, reverse=True) == lst) and\n",
    "        not any(abs(lst[i] - lst[i-1]) < 1 or abs(lst[i] - lst[i-1]) > 3 for i in range(1, len(lst)))\n",
    "    ) or\n",
    "    any(\n",
    "        (sorted(lst_tmp := lst[:j] + lst[j+1:]) == lst_tmp or sorted(lst_tmp, reverse=True) == lst_tmp) and\n",
    "        not any(abs(lst_tmp[i] - lst_tmp[i-1]) < 1 or abs(lst_tmp[i] - lst_tmp[i-1]) > 3 for i in range(1, len(lst_tmp)))\n",
    "        for j in range(len(lst))\n",
    "    )\n",
    ")"
   ]
  }
 ],
 "metadata": {
  "kernelspec": {
   "display_name": ".venv",
   "language": "python",
   "name": "python3"
  },
  "language_info": {
   "codemirror_mode": {
    "name": "ipython",
    "version": 3
   },
   "file_extension": ".py",
   "mimetype": "text/x-python",
   "name": "python",
   "nbconvert_exporter": "python",
   "pygments_lexer": "ipython3",
   "version": "3.12.7"
  }
 },
 "nbformat": 4,
 "nbformat_minor": 2
}
