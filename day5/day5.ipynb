{
 "cells": [
  {
   "cell_type": "code",
   "execution_count": 102,
   "metadata": {},
   "outputs": [],
   "source": [
    "with open('input/input.txt', 'r') as file:\n",
    "    lines = file.readlines()\n",
    "    char_list = [list(line) for line in lines]\n",
    "    conditions = []\n",
    "    pages_list = []\n",
    "    for line in lines:\n",
    "        if \"|\" in line:\n",
    "            conditions.append(line.replace(\"\\n\", \"\"))\n",
    "        elif \",\" in line:\n",
    "            pages_list.append(line.replace(\"\\n\", \"\"))"
   ]
  },
  {
   "cell_type": "markdown",
   "metadata": {},
   "source": [
    "## Part 1"
   ]
  },
  {
   "cell_type": "code",
   "execution_count": 103,
   "metadata": {},
   "outputs": [
    {
     "data": {
      "text/plain": [
       "7024"
      ]
     },
     "execution_count": 103,
     "metadata": {},
     "output_type": "execute_result"
    }
   ],
   "source": [
    "sum([int(pages.split(\",\")[int((len(pages.split(\",\")) - 1) / 2)]) \n",
    "    for pages in pages_list\n",
    "        if not any(condition.split(\"|\")[0] == page and condition.split(\"|\")[1] in pages.split(\",\")[:i] \n",
    "            for i, page in enumerate(pages.split(\",\")) \n",
    "                for condition in conditions)])"
   ]
  },
  {
   "cell_type": "markdown",
   "metadata": {},
   "source": [
    "## Part 2"
   ]
  },
  {
   "cell_type": "code",
   "execution_count": 105,
   "metadata": {},
   "outputs": [
    {
     "data": {
      "text/plain": [
       "4151"
      ]
     },
     "execution_count": 105,
     "metadata": {},
     "output_type": "execute_result"
    }
   ],
   "source": [
    "def move_element_one_step_before(lst, index):\n",
    "    if index > 0:\n",
    "        lst[index], lst[index - 1] = lst[index - 1], lst[index]\n",
    "\n",
    "wrong_pages = [pages.split(\",\")\n",
    "                for pages in pages_list\n",
    "                    if any(condition.split(\"|\")[0] == page and condition.split(\"|\")[1] in pages.split(\",\")[:i] \n",
    "                        for i, page in enumerate(pages.split(\",\")) \n",
    "                            for condition in conditions)]\n",
    "\n",
    "move_before = False\n",
    "corrected_pages = []\n",
    "j = 0\n",
    "while j < len(wrong_pages):\n",
    "    for i, page in enumerate(wrong_pages[j]):\n",
    "        for condition in conditions:\n",
    "            if condition.split(\"|\")[0] == page and condition.split(\"|\")[1] in wrong_pages[j][:i]:\n",
    "                move_element_one_step_before(wrong_pages[j], i)\n",
    "                move_before = True\n",
    "                break\n",
    "    if move_before:\n",
    "        move_before = False\n",
    "    else:\n",
    "        if j < (len(wrong_pages)):\n",
    "            corrected_pages.append(int(wrong_pages[j][int((len(wrong_pages[j]) - 1) / 2)]))\n",
    "            j+=1\n",
    "        else:\n",
    "            break\n",
    "sum(corrected_pages)\n",
    "    "
   ]
  }
 ],
 "metadata": {
  "kernelspec": {
   "display_name": ".venv",
   "language": "python",
   "name": "python3"
  },
  "language_info": {
   "codemirror_mode": {
    "name": "ipython",
    "version": 3
   },
   "file_extension": ".py",
   "mimetype": "text/x-python",
   "name": "python",
   "nbconvert_exporter": "python",
   "pygments_lexer": "ipython3",
   "version": "3.12.7"
  }
 },
 "nbformat": 4,
 "nbformat_minor": 2
}
