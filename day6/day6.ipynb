{
 "cells": [
  {
   "cell_type": "code",
   "execution_count": 27,
   "metadata": {},
   "outputs": [],
   "source": [
    "with open('input/input.txt', 'r') as file:\n",
    "    lines = file.readlines()\n",
    "    tab = [list(line.replace(\"\\n\", \"\")) for line in lines]"
   ]
  },
  {
   "cell_type": "markdown",
   "metadata": {},
   "source": [
    "## Part 1"
   ]
  },
  {
   "cell_type": "code",
   "execution_count": 28,
   "metadata": {},
   "outputs": [
    {
     "data": {
      "text/plain": [
       "5239"
      ]
     },
     "execution_count": 28,
     "metadata": {},
     "output_type": "execute_result"
    }
   ],
   "source": [
    "def go(direction, tab, i, j):\n",
    "    try:\n",
    "        if direction == \"up\":\n",
    "            if tab[i-1][j] == \"#\":\n",
    "                return \"right\", i, j+1, False\n",
    "            else:\n",
    "                return direction, i-1, j, False\n",
    "        elif direction == \"right\":\n",
    "            if tab[i][j+1] == \"#\":\n",
    "                return \"down\", i+1, j, False\n",
    "            else:\n",
    "                return direction, i, j+1, False\n",
    "        elif direction == \"down\":\n",
    "            if tab[i+1][j] == \"#\":\n",
    "                return \"left\", i, j-1, False\n",
    "            else:\n",
    "                return direction, i+1, j, False\n",
    "        elif direction == \"left\":\n",
    "            if tab[i][j-1] == \"#\":\n",
    "                return \"up\", i-1, j, False\n",
    "            else:\n",
    "                return direction, i, j-1, False\n",
    "    except:\n",
    "        return direction, i, j, True\n",
    "        \n",
    "for i in range(len(tab)):\n",
    "    for j in range(len(tab[i])):\n",
    "        if tab[i][j] == \"^\":\n",
    "            x = j\n",
    "            y = i\n",
    "\n",
    "finish = False\n",
    "direction = \"up\"\n",
    "cases = set()\n",
    "while not finish:\n",
    "    cases.add((y,x))\n",
    "    direction, y, x, finish = go(direction, tab, y, x)\n",
    "    if y < 0 or x < 0 or finish == True:\n",
    "        finish = True\n",
    "len(cases)"
   ]
  }
 ],
 "metadata": {
  "kernelspec": {
   "display_name": ".venv",
   "language": "python",
   "name": "python3"
  },
  "language_info": {
   "codemirror_mode": {
    "name": "ipython",
    "version": 3
   },
   "file_extension": ".py",
   "mimetype": "text/x-python",
   "name": "python",
   "nbconvert_exporter": "python",
   "pygments_lexer": "ipython3",
   "version": "3.12.8"
  }
 },
 "nbformat": 4,
 "nbformat_minor": 2
}
